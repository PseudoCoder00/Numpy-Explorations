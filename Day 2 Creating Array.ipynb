{
 "cells": [
  {
   "cell_type": "markdown",
   "id": "14084dd9",
   "metadata": {},
   "source": [
    "# Array"
   ]
  },
  {
   "cell_type": "code",
   "execution_count": 7,
   "id": "68004596",
   "metadata": {},
   "outputs": [
    {
     "name": "stdout",
     "output_type": "stream",
     "text": [
      "[1 2 3 4 5]\n"
     ]
    },
    {
     "data": {
      "text/plain": [
       "numpy.ndarray"
      ]
     },
     "execution_count": 7,
     "metadata": {},
     "output_type": "execute_result"
    }
   ],
   "source": [
    "import numpy as np\n",
    "\n",
    "x = [1,2,3,4,5]\n",
    "\n",
    "y = np.array(x)  #changing list into array\n",
    "print(y)         #Directly Shows array\n",
    "y                #It print Value of y with data type\n",
    "type(y)          # data type "
   ]
  },
  {
   "cell_type": "code",
   "execution_count": 10,
   "id": "d7e837c1",
   "metadata": {},
   "outputs": [
    {
     "name": "stdout",
     "output_type": "stream",
     "text": [
      "Enter value :2\n",
      "Enter value :2\n",
      "Enter value :2\n",
      "Enter value :2\n",
      "[2 2 2 2]\n"
     ]
    }
   ],
   "source": [
    "l = []\n",
    "for i in range(1,5): #Here only 4 array will be taken as input \n",
    "    x = int(input(\"Enter value :\"))\n",
    "    l.append(x)\n",
    "print(np.array(l))"
   ]
  },
  {
   "cell_type": "markdown",
   "id": "0f7137bb",
   "metadata": {},
   "source": [
    "# Two Dimension(2D) Array"
   ]
  },
  {
   "cell_type": "code",
   "execution_count": 13,
   "id": "7bb39ded",
   "metadata": {},
   "outputs": [
    {
     "name": "stdout",
     "output_type": "stream",
     "text": [
      "[[1 2 3 4]\n",
      " [1 2 3 4]]\n",
      "The dimension of the array is : 2\n"
     ]
    }
   ],
   "source": [
    "ar2 =np.array ([[1,2,3,4],[1,2,3,4]])\n",
    "print(ar2)\n",
    "print(\"The dimension of the array is :\",ar2.ndim)"
   ]
  },
  {
   "cell_type": "markdown",
   "id": "633dcb84",
   "metadata": {},
   "source": [
    "\n",
    "# Three Dimension(3D) Array"
   ]
  },
  {
   "cell_type": "code",
   "execution_count": 14,
   "id": "ff3c67cb",
   "metadata": {},
   "outputs": [
    {
     "name": "stdout",
     "output_type": "stream",
     "text": [
      "[[[1 2 3]\n",
      "  [1 2 3]]]\n",
      "The dimension of the array is : 3\n"
     ]
    }
   ],
   "source": [
    "ar3 = np.array([[[1,2,3],[1,2,3]]])\n",
    "print(ar3)\n",
    "print(\"The dimension of the array is :\",ar3.ndim)"
   ]
  },
  {
   "cell_type": "markdown",
   "id": "0a6b15f5",
   "metadata": {},
   "source": [
    "# Nth Dimension Array"
   ]
  },
  {
   "cell_type": "code",
   "execution_count": 18,
   "id": "817c1602",
   "metadata": {},
   "outputs": [
    {
     "name": "stdout",
     "output_type": "stream",
     "text": [
      "[[[[[[[[[[1 2 3 4 5]]]]]]]]]]\n",
      "The dimension of the array is : 10\n"
     ]
    }
   ],
   "source": [
    "arn =np.array([1,2,3,4,5],ndmin = 10)\n",
    "print(arn)\n",
    "print(\"The dimension of the array is :\",arn.ndim)"
   ]
  }
 ],
 "metadata": {
  "kernelspec": {
   "display_name": "Python 3 (ipykernel)",
   "language": "python",
   "name": "python3"
  },
  "language_info": {
   "codemirror_mode": {
    "name": "ipython",
    "version": 3
   },
   "file_extension": ".py",
   "mimetype": "text/x-python",
   "name": "python",
   "nbconvert_exporter": "python",
   "pygments_lexer": "ipython3",
   "version": "3.11.2"
  }
 },
 "nbformat": 4,
 "nbformat_minor": 5
}
