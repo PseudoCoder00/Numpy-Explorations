{
 "cells": [
  {
   "cell_type": "markdown",
   "id": "d55be4ae",
   "metadata": {},
   "source": [
    "# Iterating in Numpy"
   ]
  },
  {
   "cell_type": "code",
   "execution_count": 2,
   "id": "39042e62",
   "metadata": {},
   "outputs": [],
   "source": [
    "import numpy as np"
   ]
  },
  {
   "cell_type": "code",
   "execution_count": 7,
   "id": "f428c1ef",
   "metadata": {},
   "outputs": [
    {
     "name": "stdout",
     "output_type": "stream",
     "text": [
      "1\n",
      "2\n",
      "3\n",
      "4\n"
     ]
    }
   ],
   "source": [
    "x = np.array([1,2,3,4])\n",
    "for i in x:\n",
    "    print(i) #in this was it will print in vertical column"
   ]
  },
  {
   "cell_type": "code",
   "execution_count": 6,
   "id": "15ba2e2e",
   "metadata": {},
   "outputs": [
    {
     "name": "stdout",
     "output_type": "stream",
     "text": [
      "1 2 3 4 "
     ]
    }
   ],
   "source": [
    "x = np.array([1,2,3,4])\n",
    "for i in x:\n",
    "    print(i , end=\" \") # it will print in horizontal column"
   ]
  },
  {
   "cell_type": "code",
   "execution_count": 16,
   "id": "dc60ac4a",
   "metadata": {},
   "outputs": [
    {
     "name": "stdout",
     "output_type": "stream",
     "text": [
      "\n",
      "[1 2 3]\n",
      "[4 5 6]\n",
      "1 2 3 4 5 6 "
     ]
    }
   ],
   "source": [
    "Y = np.array([[1,2,3],[4,5,6]])\n",
    "Y.ndim # Dimension\n",
    "print()\n",
    "for i in Y:\n",
    "    print(i)\n",
    "\n",
    "for j in Y:\n",
    "    for m in j:\n",
    "        print(m, end=\" \")"
   ]
  },
  {
   "cell_type": "code",
   "execution_count": 3,
   "id": "1cf98e9f",
   "metadata": {},
   "outputs": [
    {
     "data": {
      "text/plain": [
       "array([[[1, 9, 5, 4],\n",
       "        [3, 8, 7, 3]]])"
      ]
     },
     "execution_count": 3,
     "metadata": {},
     "output_type": "execute_result"
    }
   ],
   "source": [
    "XY = np.array([[[1,9,5,4],[3,8,7,3]]])#3D array\n",
    "XY"
   ]
  },
  {
   "cell_type": "code",
   "execution_count": 4,
   "id": "3eccb69b",
   "metadata": {},
   "outputs": [
    {
     "name": "stdout",
     "output_type": "stream",
     "text": [
      "1\n",
      "9\n",
      "5\n",
      "4\n",
      "3\n",
      "8\n",
      "7\n",
      "3\n"
     ]
    }
   ],
   "source": [
    "for i in np.nditer(XY):#nditer() is the function to iterate\n",
    "    print(i)"
   ]
  },
  {
   "cell_type": "code",
   "execution_count": null,
   "id": "5557dfc8",
   "metadata": {},
   "outputs": [],
   "source": []
  }
 ],
 "metadata": {
  "kernelspec": {
   "display_name": "Python 3 (ipykernel)",
   "language": "python",
   "name": "python3"
  },
  "language_info": {
   "codemirror_mode": {
    "name": "ipython",
    "version": 3
   },
   "file_extension": ".py",
   "mimetype": "text/x-python",
   "name": "python",
   "nbconvert_exporter": "python",
   "pygments_lexer": "ipython3",
   "version": "3.11.2"
  }
 },
 "nbformat": 4,
 "nbformat_minor": 5
}
