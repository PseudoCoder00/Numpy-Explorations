{
 "cells": [
  {
   "cell_type": "markdown",
   "id": "d7824a83",
   "metadata": {},
   "source": [
    "# Array Filled With Zeros"
   ]
  },
  {
   "cell_type": "code",
   "execution_count": 1,
   "id": "24bb3b7a",
   "metadata": {},
   "outputs": [],
   "source": [
    "import numpy as np"
   ]
  },
  {
   "cell_type": "code",
   "execution_count": 7,
   "id": "5e7462c2",
   "metadata": {},
   "outputs": [
    {
     "name": "stdout",
     "output_type": "stream",
     "text": [
      "[0. 0. 0. 0. 0. 0.]\n"
     ]
    }
   ],
   "source": [
    "arry_zero = np.zeros(6) # zeros function is used to create array but it will create one dimensional array\n",
    "print(arry_zero)"
   ]
  },
  {
   "cell_type": "code",
   "execution_count": 11,
   "id": "02838684",
   "metadata": {},
   "outputs": [
    {
     "name": "stdout",
     "output_type": "stream",
     "text": [
      "[[0. 0. 0.]\n",
      " [0. 0. 0.]\n",
      " [0. 0. 0.]\n",
      " [0. 0. 0.]]\n"
     ]
    }
   ],
   "source": [
    "arry_zero1 = np.zeros((4,3)) # creating 2D array and giving rows and column.\n",
    "print(arry_zero1)"
   ]
  },
  {
   "cell_type": "markdown",
   "id": "24edebf0",
   "metadata": {},
   "source": [
    "# Array Filled With One"
   ]
  },
  {
   "cell_type": "code",
   "execution_count": 13,
   "id": "875b9154",
   "metadata": {},
   "outputs": [
    {
     "name": "stdout",
     "output_type": "stream",
     "text": [
      "[1. 1. 1. 1.]\n"
     ]
    }
   ],
   "source": [
    "arry_one = np.ones(4)# ones function is used and parameter is pass to create number od aarays\n",
    "print(arry_one)"
   ]
  },
  {
   "cell_type": "code",
   "execution_count": 14,
   "id": "153fb6f0",
   "metadata": {},
   "outputs": [
    {
     "name": "stdout",
     "output_type": "stream",
     "text": [
      "[[1. 1. 1.]\n",
      " [1. 1. 1.]\n",
      " [1. 1. 1.]]\n"
     ]
    }
   ],
   "source": [
    "arry_one1 = np.ones((3,3))\n",
    "print(arry_one1)"
   ]
  },
  {
   "cell_type": "markdown",
   "id": "a37d765e",
   "metadata": {},
   "source": [
    "# Creating Empty Array"
   ]
  },
  {
   "cell_type": "code",
   "execution_count": 28,
   "id": "a51d443b",
   "metadata": {},
   "outputs": [
    {
     "name": "stdout",
     "output_type": "stream",
     "text": [
      "[8.79503872e-313]\n"
     ]
    }
   ],
   "source": [
    "arry_empty = np.empty(1)\n",
    "print(arry_empty)  # This is a empty functionhere data comes from the previously used memory."
   ]
  },
  {
   "cell_type": "markdown",
   "id": "1159457e",
   "metadata": {},
   "source": [
    "# An Array With Range of elements"
   ]
  },
  {
   "cell_type": "code",
   "execution_count": 29,
   "id": "e9c7dd98",
   "metadata": {},
   "outputs": [
    {
     "name": "stdout",
     "output_type": "stream",
     "text": [
      "[0 1 2 3 4 5]\n"
     ]
    }
   ],
   "source": [
    "arry_range = np.arange(6)#arange function  works similar to range function and give data \n",
    "print(arry_range)"
   ]
  },
  {
   "cell_type": "markdown",
   "id": "ea5dced3",
   "metadata": {},
   "source": [
    "# Array diagonal element filled with 1"
   ]
  },
  {
   "cell_type": "code",
   "execution_count": 31,
   "id": "5b277eb8",
   "metadata": {},
   "outputs": [
    {
     "name": "stdout",
     "output_type": "stream",
     "text": [
      "[[1. 0. 0. 0.]\n",
      " [0. 1. 0. 0.]\n",
      " [0. 0. 1. 0.]\n",
      " [0. 0. 0. 1.]]\n"
     ]
    }
   ],
   "source": [
    "arry_diagonal = np.eye(4)#eye function is  and when parameter is pass with 4 it create 4x4 element with all its diagonal 1\n",
    "print(arry_diagonal)"
   ]
  },
  {
   "cell_type": "code",
   "execution_count": 34,
   "id": "85ab0edb",
   "metadata": {},
   "outputs": [
    {
     "name": "stdout",
     "output_type": "stream",
     "text": [
      "[[1. 0. 0.]\n",
      " [0. 1. 0.]\n",
      " [0. 0. 1.]]\n"
     ]
    }
   ],
   "source": [
    "arry_diagonal1 = np.eye(3,3)\n",
    "print(arry_diagonal1)"
   ]
  },
  {
   "cell_type": "markdown",
   "id": "e3b8bc8c",
   "metadata": {},
   "source": [
    "# Create an array with values that are spaced linearly in a special interval"
   ]
  },
  {
   "cell_type": "code",
   "execution_count": 19,
   "id": "34711181",
   "metadata": {},
   "outputs": [
    {
     "name": "stdout",
     "output_type": "stream",
     "text": [
      "[ 0.  5. 10. 15. 20.]\n"
     ]
    }
   ],
   "source": [
    "ar_line = np.linspace(0,20, num=5) # linspace function is used where num = 5 means 5 element should print with evenly number space or gap\n",
    "print(ar_line)"
   ]
  },
  {
   "cell_type": "code",
   "execution_count": null,
   "id": "40c2095a",
   "metadata": {},
   "outputs": [],
   "source": []
  }
 ],
 "metadata": {
  "kernelspec": {
   "display_name": "Python 3 (ipykernel)",
   "language": "python",
   "name": "python3"
  },
  "language_info": {
   "codemirror_mode": {
    "name": "ipython",
    "version": 3
   },
   "file_extension": ".py",
   "mimetype": "text/x-python",
   "name": "python",
   "nbconvert_exporter": "python",
   "pygments_lexer": "ipython3",
   "version": "3.11.2"
  }
 },
 "nbformat": 4,
 "nbformat_minor": 5
}
