{
 "cells": [
  {
   "cell_type": "markdown",
   "id": "181ef5df",
   "metadata": {},
   "source": [
    "# Join Array"
   ]
  },
  {
   "cell_type": "code",
   "execution_count": 5,
   "id": "f9e36c29",
   "metadata": {},
   "outputs": [],
   "source": [
    "import numpy as np"
   ]
  },
  {
   "cell_type": "code",
   "execution_count": 5,
   "id": "498e85bc",
   "metadata": {},
   "outputs": [
    {
     "data": {
      "text/plain": [
       "array([1, 2, 3, 4, 5, 6, 7, 8])"
      ]
     },
     "execution_count": 5,
     "metadata": {},
     "output_type": "execute_result"
    }
   ],
   "source": [
    "var = np.array([1,2,3,4])\n",
    "var1 = np.array([5,6,7,8])\n",
    "\n",
    "add_arry = np.concatenate((var,var1)) # this functions merge two arrays in one\n",
    "add_arry"
   ]
  },
  {
   "cell_type": "code",
   "execution_count": 6,
   "id": "cc616e6d",
   "metadata": {},
   "outputs": [
    {
     "name": "stdout",
     "output_type": "stream",
     "text": [
      "[[1 2 6 2]\n",
      " [4 5 8 5]]\n"
     ]
    }
   ],
   "source": [
    "var0 = np.array([[1,2],[4,5]])\n",
    "var2 = np.array([[6,2],[8,5]])\n",
    "arry_add = np.concatenate((var0,var2), axis = 1)\n",
    "print(arry_add)"
   ]
  },
  {
   "cell_type": "markdown",
   "id": "5b6f3221-df64-4ae5-8a78-73684eed2831",
   "metadata": {},
   "source": [
    "Stack Function\n",
    "it work along the axis only"
   ]
  },
  {
   "cell_type": "code",
   "execution_count": 8,
   "id": "cbf5aeb0-b8b5-4225-9809-f6cec2743609",
   "metadata": {},
   "outputs": [
    {
     "name": "stdout",
     "output_type": "stream",
     "text": [
      "[[1 5]\n",
      " [2 6]\n",
      " [3 7]\n",
      " [4 8]]\n"
     ]
    }
   ],
   "source": [
    "var_1 = np.array([1,2,3,4])\n",
    "var_2 = np.array([5,6,7,8])\n",
    "\n",
    "new_arry = np.stack((var_1,var_2), axis = 1) \n",
    "print(new_arry)"
   ]
  },
  {
   "cell_type": "code",
   "execution_count": 10,
   "id": "0c32717b-bdda-47b4-9c72-bdc5aa16634f",
   "metadata": {},
   "outputs": [
    {
     "name": "stdout",
     "output_type": "stream",
     "text": [
      "[[1 2 3 4]\n",
      " [5 6 7 8]]\n"
     ]
    }
   ],
   "source": [
    "var_1 = np.array([1,2,3,4])\n",
    "var_2 = np.array([5,6,7,8])\n",
    "\n",
    "new_arry = np.vstack((var_1,var_2))  # vertical\n",
    "print(new_arry)"
   ]
  },
  {
   "cell_type": "code",
   "execution_count": 11,
   "id": "9d699bec-4f32-49c3-b070-efdf36d1e43f",
   "metadata": {},
   "outputs": [
    {
     "name": "stdout",
     "output_type": "stream",
     "text": [
      "[[1 2 3 4]\n",
      " [5 6 7 8]]\n"
     ]
    }
   ],
   "source": [
    "var_1 = np.array([1,2,3,4])\n",
    "var_2 = np.array([5,6,7,8])\n",
    "\n",
    "new_arry = np.vstack((var_1,var_2)) #merge along the vertical/column\n",
    "print(new_arry)"
   ]
  },
  {
   "cell_type": "code",
   "execution_count": 13,
   "id": "343c2a2f-93df-4898-ae40-7e3fa3f8aefc",
   "metadata": {},
   "outputs": [
    {
     "name": "stdout",
     "output_type": "stream",
     "text": [
      "[1 2 3 4 5 6 7 8]\n"
     ]
    }
   ],
   "source": [
    "var_1 = np.array([1,2,3,4])\n",
    "var_2 = np.array([5,6,7,8])\n",
    "\n",
    "new_arry = np.hstack((var_1,var_2)) # merge along horizontal/row\n",
    "print(new_arry)"
   ]
  },
  {
   "cell_type": "markdown",
   "id": "5d5e8cd4-37fe-4809-9735-273276efc583",
   "metadata": {},
   "source": [
    "split array"
   ]
  },
  {
   "cell_type": "code",
   "execution_count": 15,
   "id": "03d6d54f-e532-4e6c-8dc8-df663ee0e141",
   "metadata": {},
   "outputs": [
    {
     "data": {
      "text/plain": [
       "[array([1, 2, 3]), array([4, 5, 6]), array([7, 8])]"
      ]
     },
     "execution_count": 15,
     "metadata": {},
     "output_type": "execute_result"
    }
   ],
   "source": [
    "X = np.array([1,2,3,4,5,6,7,8])\n",
    "a1 = np.array_split(X,3) # X is splited into 3 parts\n",
    "a1"
   ]
  },
  {
   "cell_type": "code",
   "execution_count": 16,
   "id": "81a58e5b-3b07-43e1-89c9-45c454ac5884",
   "metadata": {},
   "outputs": [
    {
     "data": {
      "text/plain": [
       "[array([1, 2]), array([3, 4]), array([5, 6]), array([7, 8])]"
      ]
     },
     "execution_count": 16,
     "metadata": {},
     "output_type": "execute_result"
    }
   ],
   "source": [
    "X = np.array([1,2,3,4,5,6,7,8])\n",
    "a1 = np.array_split(X,4) # X is splited into 3 parts\n",
    "a1"
   ]
  },
  {
   "cell_type": "code",
   "execution_count": null,
   "id": "334838bf-aca9-4150-9d2c-b54d945b5a7d",
   "metadata": {},
   "outputs": [],
   "source": []
  }
 ],
 "metadata": {
  "kernelspec": {
   "display_name": "Python 3 (ipykernel)",
   "language": "python",
   "name": "python3"
  },
  "language_info": {
   "codemirror_mode": {
    "name": "ipython",
    "version": 3
   },
   "file_extension": ".py",
   "mimetype": "text/x-python",
   "name": "python",
   "nbconvert_exporter": "python",
   "pygments_lexer": "ipython3",
   "version": "3.12.2"
  }
 },
 "nbformat": 4,
 "nbformat_minor": 5
}
