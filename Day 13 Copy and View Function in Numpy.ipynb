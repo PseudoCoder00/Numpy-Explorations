{
 "cells": [
  {
   "cell_type": "markdown",
   "id": "67b84617",
   "metadata": {},
   "source": [
    "# Copy vs View"
   ]
  },
  {
   "cell_type": "code",
   "execution_count": 1,
   "id": "fa70357a",
   "metadata": {},
   "outputs": [],
   "source": [
    "import numpy as np"
   ]
  },
  {
   "cell_type": "code",
   "execution_count": 3,
   "id": "9b29077b",
   "metadata": {},
   "outputs": [
    {
     "name": "stdout",
     "output_type": "stream",
     "text": [
      "X original data [1 2 3]\n",
      "Y copy from X data [1 2 3]\n"
     ]
    }
   ],
   "source": [
    "X = np.array([1,2,3])\n",
    "Y = X.copy()\n",
    "print(\"X original data\", X)\n",
    "print(\"Y copy from X data\", Y)"
   ]
  },
  {
   "cell_type": "code",
   "execution_count": 6,
   "id": "b0fc074b",
   "metadata": {},
   "outputs": [
    {
     "name": "stdout",
     "output_type": "stream",
     "text": [
      "[5 6 7 8 9]\n",
      "[5 6 7 8 9]\n"
     ]
    }
   ],
   "source": [
    "A = np.array([5,6,7,8,9])\n",
    "B = A.view()\n",
    "print(A)\n",
    "print(B)"
   ]
  },
  {
   "cell_type": "code",
   "execution_count": null,
   "id": "b36bdb03",
   "metadata": {},
   "outputs": [],
   "source": []
  }
 ],
 "metadata": {
  "kernelspec": {
   "display_name": "Python 3 (ipykernel)",
   "language": "python",
   "name": "python3"
  },
  "language_info": {
   "codemirror_mode": {
    "name": "ipython",
    "version": 3
   },
   "file_extension": ".py",
   "mimetype": "text/x-python",
   "name": "python",
   "nbconvert_exporter": "python",
   "pygments_lexer": "ipython3",
   "version": "3.11.2"
  }
 },
 "nbformat": 4,
 "nbformat_minor": 5
}
