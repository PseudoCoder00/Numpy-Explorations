{
 "cells": [
  {
   "cell_type": "markdown",
   "id": "c27e91ed",
   "metadata": {},
   "source": [
    "# Re-Shaping Arrays"
   ]
  },
  {
   "cell_type": "code",
   "execution_count": 1,
   "id": "60f7bafd",
   "metadata": {},
   "outputs": [
    {
     "name": "stdout",
     "output_type": "stream",
     "text": [
      "[0 1 2 3 4 5 6 7]\n",
      "\n",
      "[[0 1]\n",
      " [2 3]\n",
      " [4 5]\n",
      " [6 7]]\n"
     ]
    }
   ],
   "source": [
    "import numpy as np \n",
    "\n",
    "arr = np.arange(8)\n",
    "print(arr)\n",
    "print()\n",
    "print(arr.reshape(4,2))\n",
    "\n",
    "    "
   ]
  },
  {
   "cell_type": "markdown",
   "id": "f32cf8d3",
   "metadata": {},
   "source": [
    "\"C\" order \"Row\" Major and \"Fortran\" Order \"Column\" Major   AND if both row and column are major order than called as C and Fortan Order."
   ]
  },
  {
   "cell_type": "markdown",
   "id": "c88a04ab",
   "metadata": {},
   "source": [
    "The -1 parameter in the reshape method indicates that numpy should automatically calculate the number of columns based on the size of the original \n",
    "array and the desired number of rows, which in this case is 5. Since the original array has 15 elements, numpy calculates that the resulting two-dimensional array should have 5 rows and 3 columns.\n"
   ]
  },
  {
   "cell_type": "code",
   "execution_count": 14,
   "id": "c69e2bfc",
   "metadata": {},
   "outputs": [
    {
     "name": "stdout",
     "output_type": "stream",
     "text": [
      "[[ 0  1  2]\n",
      " [ 3  4  5]\n",
      " [ 6  7  8]\n",
      " [ 9 10 11]\n",
      " [12 13 14]]\n",
      "\n"
     ]
    },
    {
     "data": {
      "text/plain": [
       "array([ 0,  1,  2,  3,  4,  5,  6,  7,  8,  9, 10, 11, 12, 13, 14])"
      ]
     },
     "execution_count": 14,
     "metadata": {},
     "output_type": "execute_result"
    }
   ],
   "source": [
    "arr = np.arange(15)\n",
    "print(arr.reshape(5,-1))\n",
    "print()\n",
    "arr.ravel() # multi dimension array lai ravel/flatten function ley one dimension banaucha"
   ]
  },
  {
   "cell_type": "markdown",
   "id": "c97a7a96",
   "metadata": {},
   "source": [
    "The opposite operation of reshape from one dimension to heigher dimension is typically know as flatten or ravel"
   ]
  },
  {
   "cell_type": "code",
   "execution_count": 12,
   "id": "9c3fba88",
   "metadata": {},
   "outputs": [
    {
     "data": {
      "text/plain": [
       "array([[ 0,  1,  2],\n",
       "       [ 3,  4,  5],\n",
       "       [ 6,  7,  8],\n",
       "       [ 9, 10, 11],\n",
       "       [12, 13, 14]])"
      ]
     },
     "execution_count": 12,
     "metadata": {},
     "output_type": "execute_result"
    }
   ],
   "source": [
    "arr = np.arange(15)\n",
    "arr.reshape(5,3)"
   ]
  },
  {
   "cell_type": "code",
   "execution_count": null,
   "id": "0a2a6f62",
   "metadata": {},
   "outputs": [],
   "source": []
  }
 ],
 "metadata": {
  "kernelspec": {
   "display_name": "Python 3 (ipykernel)",
   "language": "python",
   "name": "python3"
  },
  "language_info": {
   "codemirror_mode": {
    "name": "ipython",
    "version": 3
   },
   "file_extension": ".py",
   "mimetype": "text/x-python",
   "name": "python",
   "nbconvert_exporter": "python",
   "pygments_lexer": "ipython3",
   "version": "3.11.2"
  }
 },
 "nbformat": 4,
 "nbformat_minor": 5
}
