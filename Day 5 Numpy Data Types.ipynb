{
 "cells": [
  {
   "cell_type": "markdown",
   "id": "a8a4f91c",
   "metadata": {},
   "source": [
    "# Data Types "
   ]
  },
  {
   "cell_type": "raw",
   "id": "45bf6d5a",
   "metadata": {},
   "source": [
    "# | Data Type  | Description                                                      |\n",
    "|------------|--------------------------------------------------------------------|\n",
    "| bool_      | Boolean                                                            |\n",
    "| int_       | Default integer type (int64 or int32)                              |\n",
    "| intc       | Identical to the integer in C (int32 or int64)                     |\n",
    "| intp       | Integer value used for indexing                                    |\n",
    "| int8       | 8-bit integer value (-128 to 127)                                  |\n",
    "| int16      | 16-bit integer value (-32768 to 32767)                             |\n",
    "| int32      | 32-bit integer value (-2147483648 to 2147483647)                   |\n",
    "| int64      | 64-bit integer value (-9223372036854775808 to 9223372036854775807) |\n",
    "| uint8      | Unsigned 8-bit integer value (0 to 255)                            |\n",
    "| uint16     | Unsigned 16-bit integer value (0 to 65535)                         |\n",
    "| uint32     | Unsigned 32-bit integer value (0 to 4294967295)                    |\n",
    "| uint64     | Unsigned 64-bit integer value (0 to 18446744073709551615)          |\n",
    "| float_     | Float values                                                       |\n",
    "| float16    | Half precision float values                                        |\n",
    "| float32    | Single-precision float values                                      |\n",
    "| float64    | Double-precision float values                                      |\n",
    "| complex_   | Complex values                                                     |\n",
    "| complex64  | Represent two 32-bit float complex values (real and imaginary)     |\n",
    "| complex128 | Represent two 64-bit float complex values (real and imaginary)     |"
   ]
  },
  {
   "cell_type": "code",
   "execution_count": 1,
   "id": "d2e7803a",
   "metadata": {},
   "outputs": [],
   "source": [
    "import numpy as np"
   ]
  },
  {
   "cell_type": "code",
   "execution_count": 2,
   "id": "1f448f18",
   "metadata": {},
   "outputs": [
    {
     "name": "stdout",
     "output_type": "stream",
     "text": [
      "object\n"
     ]
    }
   ],
   "source": [
    "x = np.array({1,2,3})\n",
    "print(x.dtype)"
   ]
  },
  {
   "cell_type": "code",
   "execution_count": 3,
   "id": "a9963ee1",
   "metadata": {},
   "outputs": [
    {
     "name": "stdout",
     "output_type": "stream",
     "text": [
      "int32\n"
     ]
    }
   ],
   "source": [
    "y = np.array([1,2,3])\n",
    "print(y.dtype)"
   ]
  },
  {
   "cell_type": "code",
   "execution_count": 4,
   "id": "a108cf2a",
   "metadata": {},
   "outputs": [
    {
     "name": "stdout",
     "output_type": "stream",
     "text": [
      "<U7\n"
     ]
    }
   ],
   "source": [
    "name = np.array([\"Jenish\", \"Rijan\", \"Abishek\"])\n",
    "print(name.dtype)"
   ]
  },
  {
   "cell_type": "markdown",
   "id": "803b4468",
   "metadata": {},
   "source": [
    "# Converting Data Types"
   ]
  },
  {
   "cell_type": "code",
   "execution_count": 6,
   "id": "f4976dec",
   "metadata": {},
   "outputs": [
    {
     "name": "stdout",
     "output_type": "stream",
     "text": [
      "int8\n"
     ]
    }
   ],
   "source": [
    "l = np.array([1,2,3,4], dtype = np.int8)\n",
    "print(l.dtype)"
   ]
  },
  {
   "cell_type": "code",
   "execution_count": 9,
   "id": "40921c89",
   "metadata": {},
   "outputs": [
    {
     "name": "stdout",
     "output_type": "stream",
     "text": [
      "int32\n",
      "float32\n",
      "{1, 2, 3}\n",
      "[1. 2. 3.]\n"
     ]
    }
   ],
   "source": [
    "xy = np.array([1,2,3])\n",
    "new = np.float32(xy)\n",
    "\n",
    "print(xy.dtype)\n",
    "print(new.dtype)\n",
    "\n",
    "print(x)\n",
    "print(new)"
   ]
  },
  {
   "cell_type": "code",
   "execution_count": 8,
   "id": "eff8bcd2",
   "metadata": {},
   "outputs": [
    {
     "ename": "NameError",
     "evalue": "name 'np' is not defined",
     "output_type": "error",
     "traceback": [
      "\u001b[1;31m---------------------------------------------------------------------------\u001b[0m",
      "\u001b[1;31mNameError\u001b[0m                                 Traceback (most recent call last)",
      "Cell \u001b[1;32mIn[8], line 1\u001b[0m\n\u001b[1;32m----> 1\u001b[0m al \u001b[38;5;241m=\u001b[39m \u001b[43mnp\u001b[49m\u001b[38;5;241m.\u001b[39marray([\u001b[38;5;241m1\u001b[39m,\u001b[38;5;241m2\u001b[39m,\u001b[38;5;241m3\u001b[39m])\n\u001b[0;32m      2\u001b[0m lm \u001b[38;5;241m=\u001b[39m lm\u001b[38;5;241m.\u001b[39mastype(\u001b[38;5;28mfloat\u001b[39m)\n\u001b[0;32m      3\u001b[0m \u001b[38;5;28mprint\u001b[39m(lm)\n",
      "\u001b[1;31mNameError\u001b[0m: name 'np' is not defined"
     ]
    }
   ],
   "source": [
    "al = np.array([1,2,3])\n",
    "lm = lm.astype(float)\n",
    "print(lm)"
   ]
  }
 ],
 "metadata": {
  "kernelspec": {
   "display_name": "Python 3 (ipykernel)",
   "language": "python",
   "name": "python3"
  },
  "language_info": {
   "codemirror_mode": {
    "name": "ipython",
    "version": 3
   },
   "file_extension": ".py",
   "mimetype": "text/x-python",
   "name": "python",
   "nbconvert_exporter": "python",
   "pygments_lexer": "ipython3",
   "version": "3.11.2"
  }
 },
 "nbformat": 4,
 "nbformat_minor": 5
}
