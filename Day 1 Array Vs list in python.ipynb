{
 "cells": [
  {
   "cell_type": "code",
   "execution_count": 1,
   "id": "0a7b089a",
   "metadata": {},
   "outputs": [
    {
     "name": "stdout",
     "output_type": "stream",
     "text": [
      "[1 2 3]\n",
      "<class 'numpy.ndarray'>\n"
     ]
    }
   ],
   "source": [
    "import numpy as np\n",
    "\n",
    "x = np.array([1,2,3]) # This is aaray \n",
    "print(x)\n",
    "print(type(x)) # checking the class"
   ]
  },
  {
   "cell_type": "code",
   "execution_count": 4,
   "id": "0e21d504",
   "metadata": {},
   "outputs": [
    {
     "name": "stdout",
     "output_type": "stream",
     "text": [
      "[1, 2, 3, 4]\n",
      "<class 'list'>\n"
     ]
    }
   ],
   "source": [
    "y = ([1,2,3,4])  # This is only list\n",
    "print(y)\n",
    "print(type(y)) "
   ]
  },
  {
   "cell_type": "markdown",
   "id": "d18913d0",
   "metadata": {},
   "source": [
    "# Checking time which use to crate faster numpy array or list"
   ]
  },
  {
   "cell_type": "code",
   "execution_count": 2,
   "id": "7be680f4",
   "metadata": {},
   "outputs": [
    {
     "name": "stdout",
     "output_type": "stream",
     "text": [
      "912 ns ± 145 ns per loop (mean ± std. dev. of 7 runs, 1,000,000 loops each)\n"
     ]
    }
   ],
   "source": [
    "# for list\n",
    "#%timeit this function tells the execution time of one line code\n",
    "%timeit [j**4 for j in range(1,9)]"
   ]
  },
  {
   "cell_type": "code",
   "execution_count": 4,
   "id": "838eef64",
   "metadata": {},
   "outputs": [
    {
     "name": "stdout",
     "output_type": "stream",
     "text": [
      "2.59 µs ± 249 ns per loop (mean ± std. dev. of 7 runs, 100,000 loops each)\n"
     ]
    }
   ],
   "source": [
    "# for array\n",
    "import numpy as np\n",
    "\n",
    "%timeit np.arange(1,9)**4\n",
    "#It create an array by using the evenly spaced values over the given interval\n",
    "#The interval mentioned is half opened i.e. [Start, Stop])."
   ]
  },
  {
   "cell_type": "code",
   "execution_count": null,
   "id": "a5b29d35",
   "metadata": {},
   "outputs": [],
   "source": []
  }
 ],
 "metadata": {
  "kernelspec": {
   "display_name": "Python 3 (ipykernel)",
   "language": "python",
   "name": "python3"
  },
  "language_info": {
   "codemirror_mode": {
    "name": "ipython",
    "version": 3
   },
   "file_extension": ".py",
   "mimetype": "text/x-python",
   "name": "python",
   "nbconvert_exporter": "python",
   "pygments_lexer": "ipython3",
   "version": "3.11.2"
  }
 },
 "nbformat": 4,
 "nbformat_minor": 5
}
