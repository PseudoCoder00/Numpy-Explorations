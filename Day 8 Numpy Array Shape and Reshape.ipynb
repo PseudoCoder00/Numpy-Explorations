{
 "cells": [
  {
   "cell_type": "markdown",
   "id": "abe5e302",
   "metadata": {},
   "source": [
    "# Shape"
   ]
  },
  {
   "cell_type": "code",
   "execution_count": 3,
   "id": "c4d47647",
   "metadata": {},
   "outputs": [
    {
     "name": "stdout",
     "output_type": "stream",
     "text": [
      "[[1 2 4]\n",
      " [1 2 3]]\n",
      "\n",
      "The shape/row and column of the array are : (2, 3)\n"
     ]
    }
   ],
   "source": [
    "import numpy as np\n",
    "\n",
    "var = np.array([[1,2,4],[1,2,3]])\n",
    "print(var)\n",
    "print()\n",
    "print(\"The shape of the array are :\",var.shape)"
   ]
  },
  {
   "cell_type": "code",
   "execution_count": 7,
   "id": "93c98c16",
   "metadata": {},
   "outputs": [
    {
     "name": "stdout",
     "output_type": "stream",
     "text": [
      "[[[[1 2 4 6]]]]\n",
      "It is 4 dimension array\n",
      "\n",
      "The shape of the array are : (1, 1, 1, 4)\n"
     ]
    }
   ],
   "source": [
    "var1 = np.array([1,2,4,6], ndmin = 4) # ndmin function use to create multi-dimensional array here ndmin = 4 means 4 dimension array is create\n",
    "print(var1)\n",
    "\n",
    "print(f\"It is {var1.ndim} dimension array\")\n",
    "print() # for new space/line\n",
    "print(\"The shape of the array are :\", var1.shape) # number of row are 111 and  column are 4"
   ]
  },
  {
   "cell_type": "markdown",
   "id": "a5f01a6b",
   "metadata": {},
   "source": [
    "# Re-shape "
   ]
  },
  {
   "cell_type": "code",
   "execution_count": 19,
   "id": "adb9831c",
   "metadata": {},
   "outputs": [
    {
     "name": "stdout",
     "output_type": "stream",
     "text": [
      "[1 2 3 4 5 6]\n",
      "It is 1 dimension array\n",
      "\n",
      "[[1 2]\n",
      " [3 4]\n",
      " [5 6]]\n",
      "It is 2 dimension array\n"
     ]
    }
   ],
   "source": [
    "var2 = np.array([1,2,3,4,5,6])\n",
    "print(var2)\n",
    "print(f\"It is {var2.ndim} dimension array\")\n",
    "print()\n",
    "varx = var2.reshape(3,2) # reshape(no.of rows, no.column)\n",
    "print(varx)\n",
    "print(f\"It is {varx.ndim} dimension array\")"
   ]
  },
  {
   "cell_type": "code",
   "execution_count": 18,
   "id": "3aa55a18",
   "metadata": {},
   "outputs": [
    {
     "name": "stdout",
     "output_type": "stream",
     "text": [
      "[ 1  2  3  4  5  6  7  8  9 10 11 12]\n",
      "It is 1 dimension array\n",
      "\n",
      "[[[ 1  2]\n",
      "  [ 3  4]\n",
      "  [ 5  6]]\n",
      "\n",
      " [[ 7  8]\n",
      "  [ 9 10]\n",
      "  [11 12]]]\n",
      "It is 3 dimension array\n"
     ]
    }
   ],
   "source": [
    "var3 = np.array([1,2,3,4,5,6,7,8,9,10,11,12])\n",
    "print(var3)\n",
    "print(f\"It is {var3.ndim} dimension array\")\n",
    "print()\n",
    "varz = var3.reshape(2,3,2) # reshape(no.of rows, no.column)\n",
    "print(varz)\n",
    "print(f\"It is {varz.ndim} dimension array\")"
   ]
  },
  {
   "cell_type": "markdown",
   "id": "7fc5c778",
   "metadata": {},
   "source": [
    "# Converting 3D/2D Array to 1D array\n"
   ]
  },
  {
   "cell_type": "code",
   "execution_count": 21,
   "id": "f14ff307",
   "metadata": {},
   "outputs": [
    {
     "name": "stdout",
     "output_type": "stream",
     "text": [
      "[ 1  2  3  4  5  6  7  8  9 10 11 12]\n",
      "It is 1 dimension array\n",
      "\n",
      "[[[ 1  2]\n",
      "  [ 3  4]\n",
      "  [ 5  6]]\n",
      "\n",
      " [[ 7  8]\n",
      "  [ 9 10]\n",
      "  [11 12]]]\n",
      "It is 3 dimension array\n",
      "\n",
      "[ 1  2  3  4  5  6  7  8  9 10 11 12]\n",
      "It is 1D array\n"
     ]
    }
   ],
   "source": [
    "var3 = np.array([1,2,3,4,5,6,7,8,9,10,11,12])\n",
    "print(var3)\n",
    "print(f\"It is {var3.ndim} dimension array\")\n",
    "print()\n",
    "varz = var3.reshape(2,3,2) # reshape(no.of rows, no.column)\n",
    "print(varz)\n",
    "print(f\"It is {varz.ndim} dimension array\")\n",
    "\n",
    "print()\n",
    "\n",
    "one = varz.reshape(-1)\n",
    "print(one)\n",
    "print(f\"It is {one.ndim}D array\")"
   ]
  },
  {
   "cell_type": "code",
   "execution_count": null,
   "id": "b1d843ce",
   "metadata": {},
   "outputs": [],
   "source": []
  }
 ],
 "metadata": {
  "kernelspec": {
   "display_name": "Python 3 (ipykernel)",
   "language": "python",
   "name": "python3"
  },
  "language_info": {
   "codemirror_mode": {
    "name": "ipython",
    "version": 3
   },
   "file_extension": ".py",
   "mimetype": "text/x-python",
   "name": "python",
   "nbconvert_exporter": "python",
   "pygments_lexer": "ipython3",
   "version": "3.11.2"
  }
 },
 "nbformat": 4,
 "nbformat_minor": 5
}
