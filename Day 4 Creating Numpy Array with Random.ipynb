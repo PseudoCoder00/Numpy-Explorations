{
 "cells": [
  {
   "cell_type": "code",
   "execution_count": 1,
   "id": "f1638829",
   "metadata": {},
   "outputs": [],
   "source": [
    "import numpy as np"
   ]
  },
  {
   "cell_type": "markdown",
   "id": "f649d93f",
   "metadata": {},
   "source": [
    "# rand()\n",
    "This function is used to generate random value between 0 to 1"
   ]
  },
  {
   "cell_type": "code",
   "execution_count": 2,
   "id": "be6f1530",
   "metadata": {},
   "outputs": [
    {
     "name": "stdout",
     "output_type": "stream",
     "text": [
      "[0.67131214 0.70170435 0.87257768 0.3805066 ]\n"
     ]
    }
   ],
   "source": [
    "x = np.random.rand(4) # 4 array will be created with value between 0 and 1\n",
    "print(x)"
   ]
  },
  {
   "cell_type": "code",
   "execution_count": 5,
   "id": "b89e1bee",
   "metadata": {},
   "outputs": [
    {
     "name": "stdout",
     "output_type": "stream",
     "text": [
      "[[0.18931481 0.47441565 0.84878792 0.56291638]\n",
      " [0.55972431 0.85051468 0.18297326 0.84393053]\n",
      " [0.51030209 0.75937575 0.35479408 0.23276449]]\n"
     ]
    }
   ],
   "source": [
    "y = np.random.rand(3,4) # Multi dimension array\n",
    "print(y)"
   ]
  },
  {
   "cell_type": "markdown",
   "id": "a73eec9f",
   "metadata": {},
   "source": [
    "# randn() \n",
    "This function is used to generate a random value close to zero. This may return positive or negative number as well"
   ]
  },
  {
   "cell_type": "code",
   "execution_count": 6,
   "id": "17335758",
   "metadata": {},
   "outputs": [
    {
     "name": "stdout",
     "output_type": "stream",
     "text": [
      "[ 0.30784235 -0.25834455  1.04258989  0.24045118  0.9562598 ]\n"
     ]
    }
   ],
   "source": [
    "var = np.random.randn(5) # randomly created 5 number close to zero and both -ve and +ve\n",
    "print(var)"
   ]
  },
  {
   "cell_type": "markdown",
   "id": "4c902bdf",
   "metadata": {},
   "source": [
    "# ranf()\n",
    "The given function for doing random sampling in numpy. It returns an array of specified shape and fills it with random floats in the half-open interval[0.0, 1)\n",
    "\n",
    "#But here including 0 but excluding 1 will be generated."
   ]
  },
  {
   "cell_type": "code",
   "execution_count": 7,
   "id": "9188c418",
   "metadata": {},
   "outputs": [
    {
     "name": "stdout",
     "output_type": "stream",
     "text": [
      "[0.3346791  0.57982793 0.95380585 0.30706945 0.23105866 0.51538902]\n"
     ]
    }
   ],
   "source": [
    "varx = np.random.ranf(6)\n",
    "print(varx)"
   ]
  },
  {
   "cell_type": "markdown",
   "id": "8c91cae1",
   "metadata": {},
   "source": [
    "# randint() \n",
    "used to generate a random number between a given range"
   ]
  },
  {
   "cell_type": "code",
   "execution_count": 13,
   "id": "59e639f3",
   "metadata": {},
   "outputs": [
    {
     "name": "stdout",
     "output_type": "stream",
     "text": [
      "[14 10  7 11]\n"
     ]
    }
   ],
   "source": [
    "#random.randint(min,max,total_value)\n",
    "vary = np.random.randint(6,18,4) # each time new number is generated it will print upto 18 only\n",
    "print(vary)"
   ]
  }
 ],
 "metadata": {
  "kernelspec": {
   "display_name": "Python 3 (ipykernel)",
   "language": "python",
   "name": "python3"
  },
  "language_info": {
   "codemirror_mode": {
    "name": "ipython",
    "version": 3
   },
   "file_extension": ".py",
   "mimetype": "text/x-python",
   "name": "python",
   "nbconvert_exporter": "python",
   "pygments_lexer": "ipython3",
   "version": "3.11.2"
  }
 },
 "nbformat": 4,
 "nbformat_minor": 5
}
