{
 "cells": [
  {
   "cell_type": "markdown",
   "id": "1abe97b9",
   "metadata": {},
   "source": [
    "# Arthimetic Function\n",
    "np.min()\n",
    "np.max()\n",
    "np.argmin() \n",
    "np.argmax()\n",
    "np.sqrt()\n",
    "np.sin()\n",
    "np.cos()\n",
    "np.cumsum()"
   ]
  },
  {
   "cell_type": "code",
   "execution_count": 5,
   "id": "55a7fb56",
   "metadata": {},
   "outputs": [
    {
     "name": "stdout",
     "output_type": "stream",
     "text": [
      "Minimum 1 The position is  0\n",
      "Maximum 20 The position is  6\n",
      "Sqrt is : [1.         1.41421356 1.73205081 2.         2.23606798 1.73205081\n",
      " 4.47213595]\n"
     ]
    }
   ],
   "source": [
    "import numpy as np\n",
    "\n",
    "var = np.array([1,2,3,4,5,3,20])\n",
    "\n",
    "print(\"Minimum\",np.min(var),\"The position is \",np.argmin(var))\n",
    "print(\"Maximum\",np.max(var),\"The position is \",np.argmax(var))\n",
    "# np.argmax() is used to know the position\n",
    "print(\"Sqrt is :\", np.sqrt(var))"
   ]
  },
  {
   "cell_type": "code",
   "execution_count": 4,
   "id": "ed16599a",
   "metadata": {},
   "outputs": [
    {
     "name": "stdout",
     "output_type": "stream",
     "text": [
      "[1 2 1]\n"
     ]
    }
   ],
   "source": [
    "var1 = np.array([[1,2,3],[3,2,1]])\n",
    "print(np.min(var1,axis=0)) # axis = 0 (coloumn), axis = 1 (row)"
   ]
  },
  {
   "cell_type": "code",
   "execution_count": 7,
   "id": "9c8a97fb",
   "metadata": {},
   "outputs": [
    {
     "name": "stdout",
     "output_type": "stream",
     "text": [
      "The value of sin are : [ 0.84147098  0.65028784 -0.98803162  0.85090352 -0.30481062  0.89399666]\n",
      "The value of cos are : [ 0.54030231 -0.75968791  0.15425145  0.52532199 -0.95241298 -0.44807362]\n"
     ]
    }
   ],
   "source": [
    "var = np.array([1,15,30,45,60,90])\n",
    "print(\"The value of sin are :\",np.sin(var))\n",
    "print(\"The value of cos are :\", np.cos(var))"
   ]
  },
  {
   "cell_type": "code",
   "execution_count": 8,
   "id": "1439074d",
   "metadata": {},
   "outputs": [
    {
     "name": "stdout",
     "output_type": "stream",
     "text": [
      "The value of cumsum is : [1 3 6]\n"
     ]
    }
   ],
   "source": [
    "var = np.array([1,2,3])\n",
    "print(\"The value of cumsum is :\", np.cumsum(var))"
   ]
  },
  {
   "cell_type": "code",
   "execution_count": null,
   "id": "1cf0a53c",
   "metadata": {},
   "outputs": [],
   "source": []
  }
 ],
 "metadata": {
  "kernelspec": {
   "display_name": "Python 3 (ipykernel)",
   "language": "python",
   "name": "python3"
  },
  "language_info": {
   "codemirror_mode": {
    "name": "ipython",
    "version": 3
   },
   "file_extension": ".py",
   "mimetype": "text/x-python",
   "name": "python",
   "nbconvert_exporter": "python",
   "pygments_lexer": "ipython3",
   "version": "3.11.2"
  }
 },
 "nbformat": 4,
 "nbformat_minor": 5
}
