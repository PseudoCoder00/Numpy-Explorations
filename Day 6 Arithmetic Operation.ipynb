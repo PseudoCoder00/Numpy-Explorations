{
 "cells": [
  {
   "cell_type": "markdown",
   "id": "d5ab1815",
   "metadata": {},
   "source": [
    "# Arthimetic function \n",
    "#a+b = np.add(a,b)\n",
    "#a-b = np.substract(a,b)\n",
    "#a*b = np.multiply(a,b)\n",
    "#a/b = np.divide(a,b)\n",
    "#a%b = np.mod(a,b)\n",
    "#a**b = np.power(a,b)\n",
    "#1/a = np.reciprocal\n"
   ]
  },
  {
   "cell_type": "markdown",
   "id": "29059917",
   "metadata": {},
   "source": [
    "# Arthimetic Operation"
   ]
  },
  {
   "cell_type": "code",
   "execution_count": 2,
   "id": "fd803aaa",
   "metadata": {},
   "outputs": [
    {
     "name": "stdout",
     "output_type": "stream",
     "text": [
      "[4 5 6 7]\n"
     ]
    }
   ],
   "source": [
    "import numpy as np\n",
    "\n",
    "var = np.array([1,2,3,4])\n",
    "add_ = var +3 \n",
    "print(add_)"
   ]
  },
  {
   "cell_type": "code",
   "execution_count": 3,
   "id": "980704a9",
   "metadata": {},
   "outputs": [
    {
     "name": "stdout",
     "output_type": "stream",
     "text": [
      "[2 4 6 8]\n"
     ]
    }
   ],
   "source": [
    "var1 = np.array([1,2,3,4])\n",
    "var2 = np.array([1,2,3,4])\n",
    "var_add = var1 +var2 \n",
    "print(var_add)"
   ]
  },
  {
   "cell_type": "code",
   "execution_count": 4,
   "id": "bba1f262",
   "metadata": {},
   "outputs": [
    {
     "name": "stdout",
     "output_type": "stream",
     "text": [
      "[2 4 6 8]\n"
     ]
    }
   ],
   "source": [
    "var1 = np.array([1,2,3,4]) # using function\n",
    "var2 = np.array([1,2,3,4])\n",
    "var_add = np.add(var1,var2)\n",
    "print(var_add)"
   ]
  },
  {
   "cell_type": "code",
   "execution_count": 5,
   "id": "a8fb2c7f",
   "metadata": {},
   "outputs": [
    {
     "name": "stdout",
     "output_type": "stream",
     "text": [
      "[-2 -1  0  1  2]\n"
     ]
    }
   ],
   "source": [
    "var = np.array([1,2,3,4,5])\n",
    "sub_ = var - 3 \n",
    "print(sub_)"
   ]
  },
  {
   "cell_type": "code",
   "execution_count": 6,
   "id": "919f605d",
   "metadata": {},
   "outputs": [
    {
     "name": "stdout",
     "output_type": "stream",
     "text": [
      "[0.33333333 0.66666667 1.         1.33333333 1.66666667]\n"
     ]
    }
   ],
   "source": [
    "var = np.array([1,2,3,4,5])\n",
    "div_ = var / 3 \n",
    "print(div_)"
   ]
  },
  {
   "cell_type": "code",
   "execution_count": 7,
   "id": "99525332",
   "metadata": {},
   "outputs": [
    {
     "name": "stdout",
     "output_type": "stream",
     "text": [
      "[1 2 0 1 2]\n"
     ]
    }
   ],
   "source": [
    "var = np.array([1,2,3,4,5])\n",
    "mod_ = var % 3 \n",
    "print(mod_)"
   ]
  },
  {
   "cell_type": "code",
   "execution_count": null,
   "id": "fe39a31b",
   "metadata": {},
   "outputs": [],
   "source": []
  }
 ],
 "metadata": {
  "kernelspec": {
   "display_name": "Python 3 (ipykernel)",
   "language": "python",
   "name": "python3"
  },
  "language_info": {
   "codemirror_mode": {
    "name": "ipython",
    "version": 3
   },
   "file_extension": ".py",
   "mimetype": "text/x-python",
   "name": "python",
   "nbconvert_exporter": "python",
   "pygments_lexer": "ipython3",
   "version": "3.11.2"
  }
 },
 "nbformat": 4,
 "nbformat_minor": 5
}
